{
 "cells": [
  {
   "cell_type": "markdown",
   "id": "28d132f5",
   "metadata": {},
   "source": [
    "# Jour 5 - Exercices"
   ]
  },
  {
   "cell_type": "code",
   "execution_count": 2,
   "id": "750fb1d7",
   "metadata": {},
   "outputs": [],
   "source": [
    "import pandas as pd\n",
    "import sqlite3"
   ]
  },
  {
   "cell_type": "markdown",
   "id": "29a7fa0c",
   "metadata": {},
   "source": [
    "# ========================\n",
    "# Partie A — Débutants\n",
    "# ========================\n"
   ]
  },
  {
   "cell_type": "markdown",
   "id": "04a11cef",
   "metadata": {},
   "source": [
    "# 1. Charger le fichier `customers.csv` et afficher les 5 premières lignes"
   ]
  },
  {
   "cell_type": "code",
   "execution_count": 4,
   "id": "50a3a4ed",
   "metadata": {},
   "outputs": [
    {
     "name": "stdout",
     "output_type": "stream",
     "text": [
      "5 premières lignes :\n",
      "   id     name  age       city\n",
      "0   1    Alice   25      Paris\n",
      "1   2      Bob   35       Lyon\n",
      "2   3  Charlie   40  Marseille\n",
      "3   4    Diana   28      Paris\n",
      "4   5    Ethan   32      Lille\n"
     ]
    }
   ],
   "source": [
    "customers = pd.read_csv('data/customers.csv')\n",
    "print(\"5 premières lignes :\")\n",
    "print(customers.head())"
   ]
  },
  {
   "cell_type": "markdown",
   "id": "2e2f3d5a",
   "metadata": {},
   "source": [
    "# 2. Afficher uniquement la colonne `name`"
   ]
  },
  {
   "cell_type": "code",
   "execution_count": 5,
   "id": "a262bc1e",
   "metadata": {},
   "outputs": [
    {
     "name": "stdout",
     "output_type": "stream",
     "text": [
      "\n",
      "Colonne 'name' :\n",
      "0      Alice\n",
      "1        Bob\n",
      "2    Charlie\n",
      "3      Diana\n",
      "4      Ethan\n",
      "Name: name, dtype: object\n"
     ]
    }
   ],
   "source": [
    "print(\"\\nColonne 'name' :\")\n",
    "print(customers['name'])\n"
   ]
  },
  {
   "cell_type": "markdown",
   "id": "58fc99e3",
   "metadata": {},
   "source": [
    "# 3. Lister les clients de Paris"
   ]
  },
  {
   "cell_type": "code",
   "execution_count": 6,
   "id": "8f1493cb",
   "metadata": {},
   "outputs": [
    {
     "name": "stdout",
     "output_type": "stream",
     "text": [
      "\n",
      "Clients de Paris :\n",
      "   id   name  age   city\n",
      "0   1  Alice   25  Paris\n",
      "3   4  Diana   28  Paris\n"
     ]
    }
   ],
   "source": [
    "paris_clients = customers[customers['city'] == 'Paris']\n",
    "print(\"\\nClients de Paris :\")\n",
    "print(paris_clients)"
   ]
  },
  {
   "cell_type": "markdown",
   "id": "661461e4",
   "metadata": {},
   "source": [
    "# 4. Trier les clients par âge décroissant"
   ]
  },
  {
   "cell_type": "code",
   "execution_count": 7,
   "id": "271fac4a",
   "metadata": {},
   "outputs": [
    {
     "name": "stdout",
     "output_type": "stream",
     "text": [
      "\n",
      "Clients triés par âge décroissant :\n",
      "   id     name  age       city\n",
      "2   3  Charlie   40  Marseille\n",
      "1   2      Bob   35       Lyon\n",
      "4   5    Ethan   32      Lille\n",
      "3   4    Diana   28      Paris\n",
      "0   1    Alice   25      Paris\n"
     ]
    }
   ],
   "source": [
    "sorted_customers = customers.sort_values(by='age', ascending=False)\n",
    "print(\"\\nClients triés par âge décroissant :\")\n",
    "print(sorted_customers)"
   ]
  },
  {
   "cell_type": "markdown",
   "id": "b7a5c3ed",
   "metadata": {},
   "source": [
    "# 5. Compter combien de clients viennent de chaque ville"
   ]
  },
  {
   "cell_type": "code",
   "execution_count": 8,
   "id": "e7af7448",
   "metadata": {},
   "outputs": [
    {
     "name": "stdout",
     "output_type": "stream",
     "text": [
      "\n",
      "Nombre de clients par ville :\n",
      "city\n",
      "Paris        2\n",
      "Lyon         1\n",
      "Marseille    1\n",
      "Lille        1\n",
      "Name: count, dtype: int64\n"
     ]
    }
   ],
   "source": [
    "city_counts = customers['city'].value_counts()\n",
    "print(\"\\nNombre de clients par ville :\")\n",
    "print(city_counts)"
   ]
  },
  {
   "cell_type": "markdown",
   "id": "9aa8f33e",
   "metadata": {},
   "source": [
    "# 6. Sauvegarder les clients de Lyon dans `data/lyon_clients.csv`"
   ]
  },
  {
   "cell_type": "code",
   "execution_count": 9,
   "id": "446851b0",
   "metadata": {},
   "outputs": [
    {
     "name": "stdout",
     "output_type": "stream",
     "text": [
      "\n",
      "Clients de Lyon sauvegardés dans 'data/lyon_clients.csv'.\n"
     ]
    }
   ],
   "source": [
    "lyon_clients = customers[customers['city'] == 'Lyon']\n",
    "lyon_clients.to_csv('data/lyon_clients.csv', index=False)\n",
    "print(\"\\nClients de Lyon sauvegardés dans 'data/lyon_clients.csv'.\")"
   ]
  },
  {
   "cell_type": "markdown",
   "id": "caefc143",
   "metadata": {},
   "source": [
    "# (Optionnel) Lister les clients dont le nom commence par “A”"
   ]
  },
  {
   "cell_type": "code",
   "execution_count": 10,
   "id": "5fec30b1",
   "metadata": {},
   "outputs": [
    {
     "name": "stdout",
     "output_type": "stream",
     "text": [
      "\n",
      "Clients dont le nom commence par 'A' :\n",
      "   id   name  age   city\n",
      "0   1  Alice   25  Paris\n"
     ]
    }
   ],
   "source": [
    "clients_a = customers[customers['name'].str.startswith('A')]\n",
    "print(\"\\nClients dont le nom commence par 'A' :\")\n",
    "print(clients_a)"
   ]
  },
  {
   "cell_type": "markdown",
   "id": "6e3ad834",
   "metadata": {},
   "source": [
    "# ========================\n",
    "# Partie B — Challenge\n",
    "# ========================"
   ]
  },
  {
   "cell_type": "markdown",
   "id": "95081871",
   "metadata": {},
   "source": [
    "# 7. Charger la table `orders` depuis la base `marketing.db`"
   ]
  },
  {
   "cell_type": "code",
   "execution_count": 12,
   "id": "387c3b69",
   "metadata": {},
   "outputs": [
    {
     "name": "stdout",
     "output_type": "stream",
     "text": [
      "\n",
      "5 premières commandes :\n",
      "   id  customer_id  amount  order_date\n",
      "0   1            1    39.9  2025-06-01\n",
      "1   2            2   120.0  2025-06-02\n",
      "2   3            1    59.0  2025-06-03\n",
      "3   4            3    80.0  2025-06-04\n",
      "4   5            4    25.0  2025-06-05\n"
     ]
    }
   ],
   "source": [
    "conn = sqlite3.connect('data/marketing.db')\n",
    "orders = pd.read_sql_query(\"SELECT * FROM orders\", conn)\n",
    "print(\"\\n5 premières commandes :\")\n",
    "print(orders.head())"
   ]
  },
  {
   "cell_type": "markdown",
   "id": "7424b025",
   "metadata": {},
   "source": [
    "# 8. Lister les 5 premières commandes avec le nom du client\n",
    "# On suppose que 'orders' a 'customer_id' et 'customers' a 'id'"
   ]
  },
  {
   "cell_type": "markdown",
   "id": "593989ec",
   "metadata": {},
   "source": [
    "# Charger le fichier customers.csv\n"
   ]
  },
  {
   "cell_type": "code",
   "execution_count": 18,
   "id": "9bb04d39",
   "metadata": {},
   "outputs": [
    {
     "name": "stdout",
     "output_type": "stream",
     "text": [
      "Colonnes customers : Index(['id', 'name', 'age', 'city'], dtype='object')\n"
     ]
    }
   ],
   "source": [
    "customers = pd.read_csv('data/customers.csv')\n",
    "print(\"Colonnes customers :\", customers.columns)"
   ]
  },
  {
   "cell_type": "markdown",
   "id": "5e98c029",
   "metadata": {},
   "source": [
    "# Merge orders avec customers pour avoir le nom du client"
   ]
  },
  {
   "cell_type": "code",
   "execution_count": 19,
   "id": "42f0a56a",
   "metadata": {},
   "outputs": [],
   "source": [
    "orders_with_names = orders.merge(customers, left_on='customer_id', right_on='id')"
   ]
  },
  {
   "cell_type": "markdown",
   "id": "648dd1fe",
   "metadata": {},
   "source": [
    "# Renommer les colonnes pour plus de clarté"
   ]
  },
  {
   "cell_type": "code",
   "execution_count": 20,
   "id": "1bac3f27",
   "metadata": {},
   "outputs": [],
   "source": [
    "orders_with_names.rename(columns={'id_x':'order_id', 'id_y':'customer_id', 'order_date':'date'}, inplace=True)\n"
   ]
  },
  {
   "cell_type": "markdown",
   "id": "ba4c075c",
   "metadata": {},
   "source": [
    "# Afficher les 5 premières commandes avec le nom du client"
   ]
  },
  {
   "cell_type": "code",
   "execution_count": 21,
   "id": "af1cf98f",
   "metadata": {},
   "outputs": [
    {
     "name": "stdout",
     "output_type": "stream",
     "text": [
      "\n",
      "5 premières commandes avec le nom du client :\n",
      "   order_id     name  amount        date\n",
      "0         1    Alice    39.9  2025-06-01\n",
      "1         2      Bob   120.0  2025-06-02\n",
      "2         3    Alice    59.0  2025-06-03\n",
      "3         4  Charlie    80.0  2025-06-04\n",
      "4         5    Diana    25.0  2025-06-05\n"
     ]
    }
   ],
   "source": [
    "print(\"\\n5 premières commandes avec le nom du client :\")\n",
    "print(orders_with_names[['order_id', 'name', 'amount', 'date']].head())"
   ]
  },
  {
   "cell_type": "markdown",
   "id": "4abdb978",
   "metadata": {},
   "source": [
    "# 9. Calculer le total dépensé par chaque client"
   ]
  },
  {
   "cell_type": "code",
   "execution_count": 22,
   "id": "3ab0c62d",
   "metadata": {},
   "outputs": [
    {
     "name": "stdout",
     "output_type": "stream",
     "text": [
      "\n",
      "Total dépensé par chaque client :\n",
      "      name  amount\n",
      "0    Alice    98.9\n",
      "1      Bob   120.0\n",
      "2  Charlie    80.0\n",
      "3    Diana    25.0\n"
     ]
    }
   ],
   "source": [
    "total_by_client = orders_with_names.groupby('name')['amount'].sum().reset_index()\n",
    "print(\"\\nTotal dépensé par chaque client :\")\n",
    "print(total_by_client)"
   ]
  },
  {
   "cell_type": "markdown",
   "id": "cb4708ba",
   "metadata": {},
   "source": [
    "# 10. Calculer le panier moyen par ville"
   ]
  },
  {
   "cell_type": "code",
   "execution_count": 23,
   "id": "91548677",
   "metadata": {},
   "outputs": [
    {
     "name": "stdout",
     "output_type": "stream",
     "text": [
      "\n",
      "Panier moyen par ville :\n",
      "        city  amount\n",
      "0       Lyon   120.0\n",
      "1  Marseille    80.0\n",
      "2      Paris    41.3\n"
     ]
    }
   ],
   "source": [
    "average_by_city = orders_with_names.groupby('city')['amount'].mean().reset_index()\n",
    "print(\"\\nPanier moyen par ville :\")\n",
    "print(average_by_city)"
   ]
  },
  {
   "cell_type": "markdown",
   "id": "7e30544c",
   "metadata": {},
   "source": [
    "# 11. Exporter le rapport en CSV"
   ]
  },
  {
   "cell_type": "code",
   "execution_count": 24,
   "id": "93a75b27",
   "metadata": {},
   "outputs": [
    {
     "name": "stdout",
     "output_type": "stream",
     "text": [
      "\n",
      "Rapport exporté dans 'data/panier_moyen_par_ville.csv'.\n"
     ]
    }
   ],
   "source": [
    "average_by_city.to_csv('data/panier_moyen_par_ville.csv', index=False)\n",
    "print(\"\\nRapport exporté dans 'data/panier_moyen_par_ville.csv'.\")"
   ]
  },
  {
   "cell_type": "markdown",
   "id": "914219b4",
   "metadata": {},
   "source": [
    "# (Optionnel) Trouver le top 3 clients par montant total"
   ]
  },
  {
   "cell_type": "code",
   "execution_count": 25,
   "id": "f147e68d",
   "metadata": {},
   "outputs": [
    {
     "name": "stdout",
     "output_type": "stream",
     "text": [
      "\n",
      "Top 3 clients par montant total :\n",
      "      name  amount\n",
      "1      Bob   120.0\n",
      "0    Alice    98.9\n",
      "2  Charlie    80.0\n"
     ]
    }
   ],
   "source": [
    "top3_clients = total_by_client.sort_values(by='amount', ascending=False).head(3)\n",
    "print(\"\\nTop 3 clients par montant total :\")\n",
    "print(top3_clients)"
   ]
  },
  {
   "cell_type": "markdown",
   "id": "885317ed",
   "metadata": {},
   "source": [
    "# Créer la connexion"
   ]
  },
  {
   "cell_type": "code",
   "execution_count": 2,
   "id": "8a40f4e9",
   "metadata": {},
   "outputs": [],
   "source": [
    "import sqlite3\n",
    "\n",
    "conn = sqlite3.connect('marketing.db')"
   ]
  },
  {
   "cell_type": "markdown",
   "id": "32711b40",
   "metadata": {},
   "source": [
    "# ... ton code qui utilise la base ..."
   ]
  },
  {
   "cell_type": "markdown",
   "id": "a8d8f05d",
   "metadata": {},
   "source": [
    "# Fermer la connexion à la base"
   ]
  },
  {
   "cell_type": "code",
   "execution_count": 3,
   "id": "58de8097",
   "metadata": {},
   "outputs": [],
   "source": [
    "conn.close()"
   ]
  }
 ],
 "metadata": {
  "kernelspec": {
   "display_name": ".venv",
   "language": "python",
   "name": "python3"
  },
  "language_info": {
   "codemirror_mode": {
    "name": "ipython",
    "version": 3
   },
   "file_extension": ".py",
   "mimetype": "text/x-python",
   "name": "python",
   "nbconvert_exporter": "python",
   "pygments_lexer": "ipython3",
   "version": "3.13.7"
  }
 },
 "nbformat": 4,
 "nbformat_minor": 5
}
